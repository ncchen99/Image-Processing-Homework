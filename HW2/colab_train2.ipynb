{
  "cells": [
    {
      "cell_type": "markdown",
      "id": "5404765f",
      "metadata": {},
      "source": [
        "# 訓練貓狗圖片分類器 (使用 ResNet50)\n",
        "\n",
        "以下是使用 PyTorch 在 Colab 上訓練 ResNet50 模型進行貓狗圖片分類的完整步驟。"
      ]
    },
    {
      "cell_type": "markdown",
      "id": "d55fdf46",
      "metadata": {},
      "source": [
        "## 1. 環境設置\n",
        "\n",
        "首先，確保安裝必要的庫。"
      ]
    },
    {
      "cell_type": "code",
      "execution_count": null,
      "id": "f08f47af",
      "metadata": {
        "language": "python"
      },
      "outputs": [],
      "source": [
        "# 安裝必要的庫\n",
        "!pip install torch torchvision\n",
        "!pip install albumentations"
      ]
    },
    {
      "cell_type": "markdown",
      "id": "6421adf0",
      "metadata": {},
      "source": [
        "## 2. 資料集準備\n",
        "\n",
        "### 2.1 檔案結構\n",
        "\n",
        "根據新的資料集目錄結構，您的資料集位於 `dataset/` 資料夾內，包含 `training_dataset/` 和 `inference_dataset/`。其中，`training_dataset/` 包含訓練和驗證資料，`inference_dataset/` 則用於測試。\n",
        "\n",
        "```\n",
        "dataset/\n",
        "├── inference_dataset/\n",
        "│   ├── Cat/\n",
        "│   └── Dog/\n",
        "└── training_dataset/\n",
        "    ├── Cat/\n",
        "    └── Dog/\n",
        "```"
      ]
    },
    {
      "cell_type": "markdown",
      "id": "f10fd125",
      "metadata": {},
      "source": [
        "### 2.2 讀取資料集並進行預處理\n",
        "\n",
        "由於 `training_dataset/` 只包含訓練資料，我們需要將其進一步劃分為訓練集和驗證集。以下是調整後的資料處理流程："
      ]
    },
    {
      "cell_type": "code",
      "execution_count": null,
      "id": "09250c78",
      "metadata": {
        "language": "python"
      },
      "outputs": [],
      "source": [
        "import os\n",
        "from torchvision import datasets, transforms\n",
        "from torch.utils.data import DataLoader\n",
        "import torch\n",
        "\n",
        "# 定義資料路徑\n",
        "data_dir = 'dataset'\n",
        "\n",
        "# 定義圖像轉換\n",
        "data_transforms = {\n",
        "    'train': transforms.Compose([\n",
        "        transforms.Resize((224, 224)),\n",
        "        transforms.RandomHorizontalFlip(),\n",
        "        transforms.ToTensor(),\n",
        "        transforms.Normalize([0.485, 0.456, 0.406],\n",
        "                             [0.229, 0.224, 0.225])\n",
        "    ]),\n",
        "    'val': transforms.Compose([\n",
        "        transforms.Resize((224, 224)),\n",
        "        transforms.ToTensor(),\n",
        "        transforms.Normalize([0.485, 0.456, 0.406],\n",
        "                             [0.229, 0.224, 0.225])\n",
        "    ]),\n",
        "    'test': transforms.Compose([\n",
        "        transforms.Resize((224, 224)),\n",
        "        transforms.ToTensor(),\n",
        "        transforms.Normalize([0.485, 0.456, 0.406],\n",
        "                             [0.229, 0.224, 0.225])\n",
        "    ]),\n",
        "}\n",
        "\n",
        "# 讀取訓練資料集\n",
        "training_dataset = datasets.ImageFolder(os.path.join(data_dir, 'training_dataset'),\n",
        "                                       data_transforms['train'])\n",
        "\n",
        "# 讀取驗證資料集\n",
        "validation_dataset = datasets.ImageFolder(os.path.join(data_dir, 'validation_dataset'),\n",
        "                                         data_transforms['val'])\n",
        "\n",
        "# 讀取測試資料集\n",
        "test_dataset = datasets.ImageFolder(os.path.join(data_dir, 'inference_dataset'),\n",
        "                                    data_transforms['test'])\n",
        "\n",
        "# 建立 DataLoader\n",
        "dataloaders = {\n",
        "    'train': DataLoader(training_dataset, batch_size=32, shuffle=True, num_workers=4),\n",
        "    'val': DataLoader(validation_dataset, batch_size=32, shuffle=False, num_workers=4),\n",
        "    'test': DataLoader(test_dataset, batch_size=32, shuffle=False, num_workers=4)\n",
        "}\n",
        "\n",
        "dataset_sizes = {\n",
        "    'train': len(training_dataset),\n",
        "    'val': len(validation_dataset),\n",
        "    'test': len(test_dataset)\n",
        "}\n",
        "\n",
        "class_names = training_dataset.classes\n",
        "\n",
        "device = torch.device(\"cuda:0\" if torch.cuda.is_available() else \"cpu\")"
      ]
    },
    {
      "cell_type": "markdown",
      "id": "7b2bd4d8",
      "metadata": {},
      "source": [
        "## 3. 模型構建\n",
        "\n",
        "### 3.1 定義 ResNet50 模型並修改輸出層"
      ]
    },
    {
      "cell_type": "code",
      "execution_count": null,
      "id": "a22521d3",
      "metadata": {
        "language": "python"
      },
      "outputs": [],
      "source": [
        "import torch\n",
        "import torch.nn as nn\n",
        "from torchvision import models\n",
        "\n",
        "def initialize_model(num_classes=2, feature_extract=True):\n",
        "    model = models.resnet50(pretrained=True)\n",
        "    if feature_extract:\n",
        "        for param in model.parameters():\n",
        "            param.requires_grad = False\n",
        "    num_ftrs = model.fc.in_features\n",
        "    model.fc = nn.Sequential(\n",
        "        nn.Linear(num_ftrs, num_classes),\n",
        "        nn.Softmax(dim=1)\n",
        "    )\n",
        "    return model\n",
        "\n",
        "model = initialize_model(num_classes=2, feature_extract=True)\n",
        "model = model.to(device)\n"
      ]
    },
    {
      "cell_type": "markdown",
      "id": "86349aac",
      "metadata": {},
      "source": [
        "## 4. 訓練函數"
      ]
    },
    {
      "cell_type": "code",
      "execution_count": null,
      "id": "dd274b5f",
      "metadata": {
        "language": "python"
      },
      "outputs": [],
      "source": [
        "import time\n",
        "import copy\n",
        "\n",
        "def train_model(model, dataloaders, criterion, optimizer, num_epochs=25):\n",
        "    since = time.time()\n",
        "\n",
        "    best_model_wts = copy.deepcopy(model.state_dict())\n",
        "    best_acc = 0.0\n",
        "\n",
        "    for epoch in range(num_epochs):\n",
        "        print(f'Epoch {epoch+1}/{num_epochs}')\n",
        "        print('-' * 10)\n",
        "\n",
        "        # 每個 epoch 都有訓練和驗證階段\n",
        "        for phase in ['train', 'val']:\n",
        "            if phase == 'train':\n",
        "                model.train()\n",
        "            else:\n",
        "                model.eval()\n",
        "\n",
        "            running_loss = 0.0\n",
        "            running_corrects = 0\n",
        "\n",
        "            # 迭代資料\n",
        "            for inputs, labels in dataloaders[phase]:\n",
        "                inputs = inputs.to(device)\n",
        "                labels = labels.to(device)\n",
        "\n",
        "                # 前向傳播\n",
        "                with torch.set_grad_enabled(phase == 'train'):\n",
        "                    outputs = model(inputs)\n",
        "                    _, preds = torch.max(outputs, 1)\n",
        "                    loss = criterion(outputs, labels)\n",
        "\n",
        "                    # 反向傳播 + 優化\n",
        "                    if phase == 'train':\n",
        "                        optimizer.zero_grad()\n",
        "                        loss.backward()\n",
        "                        optimizer.step()\n",
        "\n",
        "                # 統計\n",
        "                running_loss += loss.item() * inputs.size(0)\n",
        "                running_corrects += torch.sum(preds == labels.data)\n",
        "\n",
        "            epoch_loss = running_loss / dataset_sizes[phase]\n",
        "            epoch_acc = running_corrects.double() / dataset_sizes[phase]\n",
        "\n",
        "            print(f'{phase} Loss: {epoch_loss:.4f} Acc: {epoch_acc:.4f}')\n",
        "\n",
        "            # 深度拷貝模型\n",
        "            if phase == 'val' and epoch_acc > best_acc:\n",
        "                best_acc = epoch_acc\n",
        "                best_model_wts = copy.deepcopy(model.state_dict())\n",
        "\n",
        "        print()\n",
        "\n",
        "    time_elapsed = time.time() - since\n",
        "    print(f'Training complete in {int(time_elapsed//60)}m {int(time_elapsed%60)}s')\n",
        "    print(f'Best val Acc: {best_acc:.4f}')\n",
        "\n",
        "    # 載入最佳模型權重\n",
        "    model.load_state_dict(best_model_wts)\n",
        "    return model"
      ]
    },
    {
      "cell_type": "markdown",
      "id": "0aa736ce",
      "metadata": {},
      "source": [
        "## 5. 訓練模型"
      ]
    },
    {
      "cell_type": "markdown",
      "id": "7d02d1d1",
      "metadata": {},
      "source": [
        "### 5.1 不使用 Random Erasing"
      ]
    },
    {
      "cell_type": "code",
      "execution_count": null,
      "id": "671929d8",
      "metadata": {
        "language": "python"
      },
      "outputs": [],
      "source": [
        "import torch.optim as optim\n",
        "\n",
        "# 定義損失函數和優化器\n",
        "criterion = nn.CrossEntropyLoss()\n",
        "optimizer = optim.Adam(model.fc.parameters(), lr=0.001)\n",
        "\n",
        "# 訓練模型\n",
        "model_no_erasing = initialize_model()\n",
        "model_no_erasing = model_no_erasing.to(device)\n",
        "\n",
        "model_no_erasing = train_model(model_no_erasing, dataloaders, criterion, optimizer, num_epochs=25)\n",
        "\n",
        "# 儲存模型\n",
        "torch.save(model_no_erasing.state_dict(), 'resnet50_no_erasing.pth')"
      ]
    },
    {
      "cell_type": "markdown",
      "id": "46d3bd04",
      "metadata": {},
      "source": [
        "### 5.2 使用 Random Erasing 進行資料增強"
      ]
    },
    {
      "cell_type": "code",
      "execution_count": null,
      "id": "c555aa68",
      "metadata": {
        "language": "python"
      },
      "outputs": [],
      "source": [
        "from torchvision import transforms\n",
        "import numpy as np\n",
        "from PIL import Image\n",
        "\n",
        "# 自定義轉換，以整合隨機擦除\n",
        "class RandomErasingTransform:\n",
        "    def __init__(self, probability=0.5, scale=(0.02, 0.33), ratio=(0.3, 3.3), value='random'):\n",
        "        self.random_erasing = transforms.RandomErasing(p=probability, scale=scale, ratio=ratio, value=value)\n",
        "\n",
        "    def __call__(self, img):\n",
        "        img = np.array(img)\n",
        "        img = Image.fromarray(img)\n",
        "        img = self.random_erasing(img)\n",
        "        return img\n",
        "\n",
        "# 更新資料轉換\n",
        "data_transforms_erasing = {\n",
        "    'train': transforms.Compose([\n",
        "        transforms.Resize((224, 224)),\n",
        "        transforms.RandomHorizontalFlip(),\n",
        "        RandomErasingTransform(),\n",
        "        transforms.ToTensor(),\n",
        "        transforms.Normalize([0.485, 0.456, 0.406],\n",
        "                             [0.229, 0.224, 0.225])\n",
        "    ]),\n",
        "    'val': data_transforms['val'],\n",
        "    'test': data_transforms['test']\n",
        "}\n",
        "\n",
        "# 讀取訓練資料集\n",
        "training_dataset_erasing = datasets.ImageFolder(os.path.join(data_dir, 'training_dataset'),\n",
        "                                               data_transforms_erasing['train'])\n",
        "\n",
        "# 讀取驗證資料集\n",
        "validation_dataset_erasing = datasets.ImageFolder(os.path.join(data_dir, 'validation_dataset'),\n",
        "                                                 data_transforms_erasing['val'])\n",
        "\n",
        "# 讀取測試資料集（保持不變）\n",
        "test_dataset_erasing = test_dataset\n",
        "\n",
        "# 建立 DataLoader\n",
        "dataloaders_erasing = {\n",
        "    'train': DataLoader(training_dataset_erasing, batch_size=32, shuffle=True, num_workers=4),\n",
        "    'val': DataLoader(validation_dataset_erasing, batch_size=32, shuffle=False, num_workers=4),\n",
        "    'test': DataLoader(test_dataset_erasing, batch_size=32, shuffle=False, num_workers=4)\n",
        "}\n",
        "\n",
        "# 定義模型\n",
        "model_erasing = initialize_model()\n",
        "model_erasing = model_erasing.to(device)\n",
        "\n",
        "# 定義優化器\n",
        "optimizer_erasing = optim.Adam(model_erasing.fc.parameters(), lr=0.001)\n",
        "\n",
        "# 訓練模型\n",
        "model_erasing = train_model(model_erasing, dataloaders_erasing, criterion, optimizer_erasing, num_epochs=25)\n",
        "\n",
        "# 儲存模型\n",
        "torch.save(model_erasing.state_dict(), 'resnet50_with_erasing.pth')"
      ]
    },
    {
      "cell_type": "markdown",
      "id": "ce1efe86",
      "metadata": {},
      "source": [
        "## 6. 驗證模型準確度"
      ]
    },
    {
      "cell_type": "code",
      "execution_count": null,
      "id": "271ec294",
      "metadata": {
        "language": "python"
      },
      "outputs": [],
      "source": [
        "def evaluate_model(model, dataloader, phase='val'):\n",
        "    model.eval()\n",
        "    running_corrects = 0\n",
        "\n",
        "    with torch.no_grad():\n",
        "        for inputs, labels in dataloader[phase]:\n",
        "            inputs = inputs.to(device)\n",
        "            labels = labels.to(device)\n",
        "            outputs = model(inputs)\n",
        "            _, preds = torch.max(outputs, 1)\n",
        "            running_corrects += torch.sum(preds == labels.data)\n",
        "\n",
        "    accuracy = running_corrects.double() / dataset_sizes[phase]\n",
        "    return accuracy.item()\n",
        "\n",
        "acc_no_erasing = evaluate_model(model_no_erasing, dataloaders, phase='val')\n",
        "acc_with_erasing = evaluate_model(model_erasing, dataloaders_erasing, phase='val')\n",
        "\n",
        "print(f'驗證準確度 (無 Random Erasing): {acc_no_erasing:.4f}')\n",
        "print(f'驗證準確度 (使用 Random Erasing): {acc_with_erasing:.4f}')\n",
        "\n",
        "### 測試集評估（可選）\n",
        "\n",
        "若您希望在測試集上評估模型表現，可以新增以下程式碼：\n",
        "\n",
        "acc_test_no_erasing = evaluate_model(model_no_erasing, dataloaders, phase='test')\n",
        "acc_test_with_erasing = evaluate_model(model_erasing, dataloaders_erasing, phase='test')\n",
        "\n",
        "print(f'測試準確度 (無 Random Erasing): {acc_test_no_erasing:.4f}')\n",
        "print(f'測試準確度 (使用 Random Erasing): {acc_test_with_erasing:.4f}')"
      ]
    },
    {
      "cell_type": "markdown",
      "id": "4bda2a12",
      "metadata": {},
      "source": [
        "### 測試集評估（可選）\n",
        "\n",
        "若您希望在測試集上評估模型表現，可以新增以下程式碼："
      ]
    },
    {
      "cell_type": "code",
      "execution_count": null,
      "id": "5d935b0d",
      "metadata": {
        "language": "python"
      },
      "outputs": [],
      "source": [
        "acc_test_no_erasing = evaluate_model(model_no_erasing, dataloaders, phase='test')\n",
        "acc_test_with_erasing = evaluate_model(model_erasing, dataloaders_erasing, phase='test')\n",
        "\n",
        "print(f'測試準確度 (無 Random Erasing): {acc_test_no_erasing:.4f}')\n",
        "print(f'測試準確度 (使用 Random Erasing): {acc_test_with_erasing:.4f}')"
      ]
    },
    {
      "cell_type": "markdown",
      "id": "373e850b",
      "metadata": {},
      "source": [
        "## 7. 儲存最佳模型"
      ]
    },
    {
      "cell_type": "code",
      "execution_count": null,
      "id": "80251238",
      "metadata": {
        "language": "python"
      },
      "outputs": [],
      "source": [
        "# 若需匯出到 Google Drive，可使用以下指令\n",
        "\n",
        "from google.colab import drive\n",
        "drive.mount('/content/drive')\n",
        "\n",
        "# 儲存到指定路徑\n",
        "torch.save(model_no_erasing.state_dict(), '/content/drive/MyDrive/resnet50_no_erasing.pth')\n",
        "torch.save(model_erasing.state_dict(), '/content/drive/MyDrive/resnet50_with_erasing.pth')"
      ]
    },
    {
      "cell_type": "markdown",
      "id": "3bb3e635",
      "metadata": {},
      "source": [
        "## 8. 完整程式碼總結\n",
        "\n",
        "將上述所有程式碼片段整合到 `colab_train2.ipynb` 中，即可完成訓練貓狗分類器的流程。請確保資料集位於正確的路徑 `dataset/`，並根據需要調整超參數。"
      ]
    },
    {
      "cell_type": "markdown",
      "id": "65234e69",
      "metadata": {},
      "source": [
        "## 參考資料\n",
        "\n",
        "- [PyTorch 官方文檔](https://pytorch.org/docs/stable/index.html)\n",
        "- [Albumentations 資料增強庫](https://albumentations.ai/docs/)\n",
        "- [ResNet 論文](https://arxiv.org/abs/1512.03385)"
      ]
    },
    {
      "cell_type": "markdown",
      "id": "ff3f8194",
      "metadata": {},
      "source": [
        "## 結論\n",
        "\n",
        "根據新的資料集目錄結構，您已成功調整程式碼以正確讀取和處理資料。透過上述步驟，您可以訓練兩個使用 ResNet50 的貓狗圖片分類器，一個使用了 Random Erasing 資料增強，另一個則沒有。最終，您將能夠比較兩者在驗證集上的表現差異，並選擇最佳模型進行部署或進一步優化。\n",
        "\n",
        "# 祝您訓練順利！"
      ]
    }
  ],
  "metadata": {
    "kernelspec": {
      "display_name": "Python 3",
      "language": "python",
      "name": "python3"
    },
    "language_info": {
      "codemirror_mode": {
        "name": "ipython",
        "version": 3
      },
      "file_extension": ".py",
      "mimetype": "text/x-python",
      "name": "python",
      "nbconvert_exporter": "python",
      "pygments_lexer": "ipython3",
      "version": "3.7.12"
    }
  },
  "nbformat": 4,
  "nbformat_minor": 5
}
